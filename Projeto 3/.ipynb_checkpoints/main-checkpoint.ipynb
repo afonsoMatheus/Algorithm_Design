{
 "cells": [
  {
   "cell_type": "code",
   "execution_count": 2,
   "metadata": {},
   "outputs": [],
   "source": [
    "import math\n",
    "import heapq as hp"
   ]
  },
  {
   "cell_type": "code",
   "execution_count": 3,
   "metadata": {},
   "outputs": [],
   "source": [
    "''' \n",
    "DTW (Dynamic Time Warping) is a dynamic programing algorithm thats compares two temporal series,\n",
    "using a bottom-up approach. It's uses the distance function to calculate the distance between two poits\n",
    "from the series, with a simple function of (v1-v2)^2. More information on the report.\n",
    "\n",
    "'''\n",
    "\n",
    "#Args v1 v2, int int\n",
    "#Ret int; the distance betwen two points\n",
    "def distance(v1, v2):\n",
    "    \n",
    "    dist = 0\n",
    "    dist = math.pow(float(v1) - float(v2), 2)\n",
    "\n",
    "    return dist\n",
    "\n",
    "#Args ts1 ts2, list list\n",
    "#Ret int; the final position in the matrix \n",
    "def DTW(ts1, ts2):\n",
    "    \n",
    "    n = len(ts1) + 1\n",
    "    m = len(ts2) + 1\n",
    "    \n",
    "    mat = [[0 for i in range(m)] for i in range(n)]\n",
    "    \n",
    "    for i in range(1, n):\n",
    "        mat[i][0] = 9999\n",
    "         \n",
    "    for i in range(1, m):\n",
    "        mat[0][i] = 9999\n",
    "        \n",
    "    for i in range(1, n):\n",
    "        for j in range(1, m):\n",
    "            cost = distance(ts1[i-1], ts2[j-1])\n",
    "            mat[i][j] = cost + min(mat[i-1][j], mat[i][j-1], mat[i-1][j-1])\n",
    "    \n",
    "    return mat[n-1][m-1]"
   ]
  },
  {
   "cell_type": "code",
   "execution_count": 4,
   "metadata": {},
   "outputs": [],
   "source": [
    "''' \n",
    "KNN (K-Nearest Neighboors) algorithm with k = 1\n",
    "\n",
    "'''\n",
    "\n",
    "#Args train test target, list list list \n",
    "#Ret list; the classification of the test\n",
    "def knn(train, test, target):\n",
    "    \n",
    "    results = []\n",
    "    \n",
    "    print(\"Making classification...\")\n",
    "    \n",
    "    for j in range(len(test)):\n",
    "        \n",
    "        heap = []\n",
    "\n",
    "        for i in range(len(train)):\n",
    "            \n",
    "            hp.heappush(heap, [DTW(train[i], test[j]), target[i]])\n",
    "        \n",
    "        near = heap[0:1]\n",
    "                \n",
    "        results.append(near[0][1])\n",
    "                        \n",
    "    return results"
   ]
  },
  {
   "cell_type": "code",
   "execution_count": 5,
   "metadata": {},
   "outputs": [],
   "source": [
    "'''\n",
    "Function to calculate the accuracy of the classification\n",
    "'''\n",
    "\n",
    "#Args pred_label real_label, list list\n",
    "#Ret float; the accuracy of the classification\n",
    "def evaluation(pred_label, real_label):\n",
    "    \n",
    "    count = 0\n",
    "    \n",
    "    for i in range(len(pred_label)):\n",
    "        if(pred_label[i] == real_label[i]):\n",
    "            count += 1\n",
    "            \n",
    "    return count/len(pred_label)"
   ]
  },
  {
   "cell_type": "code",
   "execution_count": 6,
   "metadata": {},
   "outputs": [],
   "source": [
    "'''\n",
    "Function thats reads the training and the test files\n",
    "'''\n",
    "\n",
    "#Args arq, String\n",
    "#Ret list list; the list of classes and the temporal series\n",
    "def read_txt(arq):\n",
    "\n",
    "    arq = open(arq, 'r')\n",
    "    lines = arq.readlines()\n",
    "\n",
    "    ts = []\n",
    "    target = []\n",
    "\n",
    "    for line in lines:\n",
    "        l = line.split()\n",
    "        target.append(l[0])\n",
    "        ts.append(l[1:])\n",
    "\n",
    "    arq.close()\n",
    "    \n",
    "    return target, ts\n",
    "\n"
   ]
  },
  {
   "cell_type": "code",
   "execution_count": 69,
   "metadata": {},
   "outputs": [],
   "source": [
    "if __name__ == \"__main__\":\n",
    "\n",
    "    target_train, ts_train = read_txt(\"treino.txt\")\n",
    "    real_label, ts_test = read_txt(\"teste.txt\")\n",
    "\n",
    "    pred_label = knn(ts_train, ts_test, target_train)\n",
    "    \n",
    "    print(evaluation(pred_label, real_label))\n",
    "\n"
   ]
  },
  {
   "cell_type": "code",
   "execution_count": null,
   "metadata": {},
   "outputs": [],
   "source": []
  }
 ],
 "metadata": {
  "kernelspec": {
   "display_name": "Python 3",
   "language": "python",
   "name": "python3"
  },
  "language_info": {
   "codemirror_mode": {
    "name": "ipython",
    "version": 3
   },
   "file_extension": ".py",
   "mimetype": "text/x-python",
   "name": "python",
   "nbconvert_exporter": "python",
   "pygments_lexer": "ipython3",
   "version": "3.6.7"
  }
 },
 "nbformat": 4,
 "nbformat_minor": 2
}
