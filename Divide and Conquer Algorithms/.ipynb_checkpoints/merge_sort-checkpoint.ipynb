{
 "cells": [
  {
   "cell_type": "code",
   "execution_count": 168,
   "metadata": {},
   "outputs": [],
   "source": [
    "def merge_sort(array, start, end):\n",
    "    \n",
    "    mid = 0\n",
    "    \n",
    "    if(start < end):\n",
    "        \n",
    "        mid = (start + end)//2\n",
    "        merge_sort(array, start, mid)\n",
    "        merge_sort(array, mid+1, end)\n",
    "        intercalate(array, start, mid, end)\n",
    "\n",
    "def intercalate(array, start, mid, end):\n",
    "        \n",
    "    L = []\n",
    "    R = []\n",
    "    \n",
    "    n1 = mid - start + 1\n",
    "    n2 = end - mid\n",
    "    \n",
    "    for i in range(n1):\n",
    "        L.append(array[start+i])\n",
    "    L.append(9999)\n",
    "        \n",
    "    for i in range(n2):\n",
    "        R.append(array[mid+i+1])\n",
    "    R.append(9999)\n",
    "        \n",
    "    i = 0\n",
    "    j = 0\n",
    "    for k in range(start, end + 1):\n",
    "        \n",
    "        if(L[i] <= R[j]):\n",
    "            array[k] = L[i]\n",
    "            i = i + 1\n",
    "        else:\n",
    "            array[k] = R[j]\n",
    "            j = j + 1            \n",
    "            "
   ]
  },
  {
   "cell_type": "code",
   "execution_count": null,
   "metadata": {},
   "outputs": [],
   "source": []
  }
 ],
 "metadata": {
  "kernelspec": {
   "display_name": "Python 3",
   "language": "python",
   "name": "python3"
  },
  "language_info": {
   "codemirror_mode": {
    "name": "ipython",
    "version": 3
   },
   "file_extension": ".py",
   "mimetype": "text/x-python",
   "name": "python",
   "nbconvert_exporter": "python",
   "pygments_lexer": "ipython3",
   "version": "3.6.7"
  }
 },
 "nbformat": 4,
 "nbformat_minor": 2
}
