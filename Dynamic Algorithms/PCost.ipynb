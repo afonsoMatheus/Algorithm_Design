{
 "cells": [
  {
   "cell_type": "code",
   "execution_count": 17,
   "metadata": {},
   "outputs": [],
   "source": [
    "import math\n",
    "\n",
    "def pile_cost(s1,s2):\n",
    "    \n",
    "    s1 = sorted(s1)\n",
    "    s2 = sorted(s2)\n",
    "    \n",
    "    m = len(s1) + 1\n",
    "    n = len(s2) + 1\n",
    "    \n",
    "    M = [[0 for i in range(n)] for j in range(m)]\n",
    "    \n",
    "    a = 1\n",
    "    b = 3\n",
    "    \n",
    "    for i in range(1,n):\n",
    "        M[0][i] = s2[i-1]*a + M[0][i-1]\n",
    "        \n",
    "    for i in range(1,m):\n",
    "        M[i][0] = s1[i-1]*a + M[i-1][0]\n",
    "        \n",
    "    for i in range(1, m):\n",
    "        for j in range(1, n):\n",
    "            if (s1[i-1] == s2[j-1]):\n",
    "                M[i][j] = min(M[i-1][j-1], M[i][j-1] + s2[j-1]*b)\n",
    "            else:\n",
    "                temp = s1[i-1] - s2[j-1]\n",
    "                if(temp >=0):\n",
    "                    temp= temp*a\n",
    "                else:\n",
    "                    temp= math.fabs(temp*b)\n",
    "                    \n",
    "                M[i][j] = min(temp + M[i-1][j-1], M[i-1][j] + s1[i-1]*b, M[i][j-1] + s2[j-1]*b)\n",
    "                \n",
    "    show(M)\n",
    "                \n",
    "    return M[m-1][n-1]\n",
    "\n",
    "def show(M):\n",
    "    for i in range(len(M)):\n",
    "        print(M[i])"
   ]
  },
  {
   "cell_type": "code",
   "execution_count": 18,
   "metadata": {},
   "outputs": [
    {
     "name": "stdout",
     "output_type": "stream",
     "text": [
      "[0, 2, 7, 15]\n",
      "[1, 3.0, 10, 18]\n",
      "[5, 3, 6.0, 22.0]\n",
      "[14, 12, 7, 7.0]\n"
     ]
    },
    {
     "data": {
      "text/plain": [
       "7.0"
      ]
     },
     "execution_count": 18,
     "metadata": {},
     "output_type": "execute_result"
    }
   ],
   "source": [
    "pile_cost([1,4,9],[2,5,8])\n",
    "#pile_cost([2,2],[3,4])"
   ]
  },
  {
   "cell_type": "code",
   "execution_count": null,
   "metadata": {},
   "outputs": [],
   "source": []
  },
  {
   "cell_type": "code",
   "execution_count": null,
   "metadata": {},
   "outputs": [],
   "source": []
  }
 ],
 "metadata": {
  "kernelspec": {
   "display_name": "Python 3",
   "language": "python",
   "name": "python3"
  },
  "language_info": {
   "codemirror_mode": {
    "name": "ipython",
    "version": 3
   },
   "file_extension": ".py",
   "mimetype": "text/x-python",
   "name": "python",
   "nbconvert_exporter": "python",
   "pygments_lexer": "ipython3",
   "version": "3.6.7"
  }
 },
 "nbformat": 4,
 "nbformat_minor": 2
}
