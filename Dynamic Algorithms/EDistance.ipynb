{
 "cells": [
  {
   "cell_type": "code",
   "execution_count": 76,
   "metadata": {},
   "outputs": [],
   "source": [
    "def EDistance(s1, s2):\n",
    "    \n",
    "    n = len(s1) + 1\n",
    "    m = len(s2) + 1\n",
    "        \n",
    "    M = [[0 for i in range(n)] for j in range(m)]\n",
    "    \n",
    "    #lin\n",
    "    for i in range(1,n):\n",
    "        M[0][i] = i\n",
    "        \n",
    "    #col\n",
    "    for i in range(1,m):\n",
    "        M[i][0] = i\n",
    "    \n",
    "    for i in range(1,m):\n",
    "        for j in range(1,n):\n",
    "            if(s1[j-1] == s2[i-1]):\n",
    "                M[i][j] = M[i-1][j-1]\n",
    "            else:\n",
    "                M[i][j] = min(M[i-1][j],M[i][j-1],M[i-1][j-1]) +1\n",
    "                \n",
    "    \n",
    "    \n",
    "    \n",
    "    return M[m-1][n-1]"
   ]
  },
  {
   "cell_type": "code",
   "execution_count": 77,
   "metadata": {},
   "outputs": [
    {
     "data": {
      "text/plain": [
       "3"
      ]
     },
     "execution_count": 77,
     "metadata": {},
     "output_type": "execute_result"
    }
   ],
   "source": [
    "s1 = \"march\"\n",
    "s2 = \"cart\"\n",
    "\n",
    "EDistance(s1, s2)"
   ]
  }
 ],
 "metadata": {
  "kernelspec": {
   "display_name": "Python 3",
   "language": "python",
   "name": "python3"
  },
  "language_info": {
   "codemirror_mode": {
    "name": "ipython",
    "version": 3
   },
   "file_extension": ".py",
   "mimetype": "text/x-python",
   "name": "python",
   "nbconvert_exporter": "python",
   "pygments_lexer": "ipython3",
   "version": "3.6.7"
  }
 },
 "nbformat": 4,
 "nbformat_minor": 2
}
