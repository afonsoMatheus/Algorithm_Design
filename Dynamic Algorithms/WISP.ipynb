{
 "cells": [
  {
   "cell_type": "code",
   "execution_count": 107,
   "metadata": {},
   "outputs": [],
   "source": [
    "def wisp(val, p, j, M):\n",
    "    \n",
    "    M[j] = None\n",
    "    \n",
    "    if (j == 0):\n",
    "        return 0\n",
    "    elif (M[j] is not None):\n",
    "        return M[j]\n",
    "    else:\n",
    "        M[j] = max(val[j] + wisp(val, p, p[j], M), wisp(val, p, j-1, M))\n",
    "        return M[j]\n",
    "    \n",
    "def iter_wisp(val, p, M): \n",
    "    M[0] = 0\n",
    "    interv = []\n",
    "    \n",
    "    for j in range(1, len(val) + 1):\n",
    "        \n",
    "        M[j] = max(val[j] + M[p[j]], M[j-1])\n",
    "        \n",
    "    return M\n",
    "    \n",
    "    "
   ]
  },
  {
   "cell_type": "code",
   "execution_count": 108,
   "metadata": {},
   "outputs": [
    {
     "data": {
      "text/plain": [
       "{6: 8, 3: 6, 1: 2, 0: 0, 2: 4, 5: 8, 4: 7}"
      ]
     },
     "execution_count": 108,
     "metadata": {},
     "output_type": "execute_result"
    }
   ],
   "source": [
    "val = {1: 2, 2: 4, 3: 4, 4: 7, 5: 2, 6: 1}\n",
    "p = {1: 0, 2: 0, 3: 1, 4: 0, 5: 3, 6: 3}\n",
    "j = len(val)\n",
    "M = {}\n",
    "\n",
    "wisp(val, p, j, M)\n",
    "iter_wisp(val, p, M)\n",
    "\n"
   ]
  },
  {
   "cell_type": "code",
   "execution_count": null,
   "metadata": {},
   "outputs": [],
   "source": []
  }
 ],
 "metadata": {
  "kernelspec": {
   "display_name": "Python 3",
   "language": "python",
   "name": "python3"
  },
  "language_info": {
   "codemirror_mode": {
    "name": "ipython",
    "version": 3
   },
   "file_extension": ".py",
   "mimetype": "text/x-python",
   "name": "python",
   "nbconvert_exporter": "python",
   "pygments_lexer": "ipython3",
   "version": "3.6.7"
  }
 },
 "nbformat": 4,
 "nbformat_minor": 2
}
