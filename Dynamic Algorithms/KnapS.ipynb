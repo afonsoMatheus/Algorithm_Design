{
 "cells": [
  {
   "cell_type": "code",
   "execution_count": 114,
   "metadata": {},
   "outputs": [],
   "source": [
    "def knapsack(W, wt):\n",
    "    \n",
    "    n = len(wt) + 1\n",
    "    M = [[0 for x in range(W+1)] for x in range(n)]\n",
    "  \n",
    "    for i in range(1,n): \n",
    "        for w in range(1,W+1): \n",
    "            if wt[i-1] <= w: \n",
    "                M[i][w] = max(wt[i-1] + M[i-1][w-wt[i-1]],  M[i-1][w])\n",
    "            else: \n",
    "                M[i][w] = M[i-1][w]\n",
    "                \n",
    "    return M, M[n-1][W]\n",
    "\n",
    "def min_cost(W,wt):\n",
    "    \n",
    "    costs = []\n",
    "\n",
    "    for w in W:\n",
    "        aux, wt = cost(w, wt)\n",
    "        costs.append(aux)\n",
    "\n",
    "    if(wt != []):\n",
    "        costs.append(\"a\"*len(wt))\n",
    "        \n",
    "    return costs\n",
    "                \n",
    "def cost(W, wt):\n",
    "    \n",
    "    M, m = knapsack(W, wt)\n",
    "    cost = 0\n",
    "    \n",
    "    if(W - m != 0):\n",
    "        cost = \"b\"\n",
    "     \n",
    "    return cost, remov_items(wt, M, m, W)\n",
    "\n",
    "def remov_items(wt, M, m, W):\n",
    "    \n",
    "    items = []\n",
    "    res = m \n",
    "    w = W\n",
    "    for i in range(len(wt) + 1, 0, -1):\n",
    "        if (res != M[i - 1][w]): \n",
    "            items.append(i - 1)\n",
    "            res = res - wt[i - 1] \n",
    "            w = w - wt[i - 1]\n",
    "            \n",
    "    for item in items:\n",
    "        del wt[item]\n",
    "    \n",
    "    return wt"
   ]
  },
  {
   "cell_type": "code",
   "execution_count": 115,
   "metadata": {},
   "outputs": [
    {
     "data": {
      "text/plain": [
       "['b', 'b']"
      ]
     },
     "execution_count": 115,
     "metadata": {},
     "output_type": "execute_result"
    }
   ],
   "source": [
    "W = [3,4]\n",
    "wt = [2,2]\n",
    "\n",
    "min_cost(W,wt)\n"
   ]
  },
  {
   "cell_type": "code",
   "execution_count": null,
   "metadata": {},
   "outputs": [],
   "source": []
  },
  {
   "cell_type": "code",
   "execution_count": null,
   "metadata": {},
   "outputs": [],
   "source": []
  }
 ],
 "metadata": {
  "kernelspec": {
   "display_name": "Python 3",
   "language": "python",
   "name": "python3"
  },
  "language_info": {
   "codemirror_mode": {
    "name": "ipython",
    "version": 3
   },
   "file_extension": ".py",
   "mimetype": "text/x-python",
   "name": "python",
   "nbconvert_exporter": "python",
   "pygments_lexer": "ipython3",
   "version": "3.6.7"
  }
 },
 "nbformat": 4,
 "nbformat_minor": 2
}
