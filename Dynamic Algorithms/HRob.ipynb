{
 "cells": [
  {
   "cell_type": "code",
   "execution_count": 70,
   "metadata": {},
   "outputs": [],
   "source": [
    "def max_rob(n, values):\n",
    "    \n",
    "    if(n < 0):\n",
    "        return 0\n",
    "    else:\n",
    "        return max(values[n] + max_rob(n-2, values), max_rob(n-1, values))\n",
    "    \n",
    "def max_rob_iter(values):\n",
    "    \n",
    "    aux = [0 for i in range(len(values))]\n",
    "    \n",
    "    aux[0] = values[0]\n",
    "    aux[1] = max(values[0],values[1])\n",
    "    \n",
    "    for i in range(2, len(values)):\n",
    "        aux[i] = max(aux[i-2] + values[i], aux[i-1])\n",
    "        \n",
    "    return aux[len(values)-1]\n",
    "    \n",
    "    "
   ]
  },
  {
   "cell_type": "code",
   "execution_count": 71,
   "metadata": {},
   "outputs": [
    {
     "name": "stdout",
     "output_type": "stream",
     "text": [
      "76\n"
     ]
    },
    {
     "data": {
      "text/plain": [
       "76"
      ]
     },
     "execution_count": 71,
     "metadata": {},
     "output_type": "execute_result"
    }
   ],
   "source": [
    "values = [5,3,4,11,2,30,11,2,30]\n",
    "n = len(values)-1\n",
    "\n",
    "print(max_rob(n, values))\n",
    "max_rob_iter(values)"
   ]
  },
  {
   "cell_type": "code",
   "execution_count": null,
   "metadata": {},
   "outputs": [],
   "source": []
  },
  {
   "cell_type": "code",
   "execution_count": null,
   "metadata": {},
   "outputs": [],
   "source": []
  }
 ],
 "metadata": {
  "kernelspec": {
   "display_name": "Python 3",
   "language": "python",
   "name": "python3"
  },
  "language_info": {
   "codemirror_mode": {
    "name": "ipython",
    "version": 3
   },
   "file_extension": ".py",
   "mimetype": "text/x-python",
   "name": "python",
   "nbconvert_exporter": "python",
   "pygments_lexer": "ipython3",
   "version": "3.6.7"
  }
 },
 "nbformat": 4,
 "nbformat_minor": 2
}
