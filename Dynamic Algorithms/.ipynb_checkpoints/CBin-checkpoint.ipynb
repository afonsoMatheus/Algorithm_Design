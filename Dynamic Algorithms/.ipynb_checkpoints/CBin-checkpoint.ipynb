{
 "cells": [
  {
   "cell_type": "code",
   "execution_count": 17,
   "metadata": {},
   "outputs": [],
   "source": [
    "def coef_bin(n, k):\n",
    "    \n",
    "    if(k == 0 or k == n):\n",
    "        return 1\n",
    "    else:\n",
    "        return coef_bin(n-1, k-1) + coef_bin(n-1, k)\n",
    "    \n",
    "def coef_bin_k(n, k):\n",
    "    \n",
    "    if(k > n - k): \n",
    "        k = n - k\n",
    "    \n",
    "    res = 1\n",
    "    for i in range(k):\n",
    "        res = res * (n - i) \n",
    "        res = res / (i + 1) \n",
    "    return res \n",
    "    \n",
    "def coef_bin_iter(n, k):\n",
    "    \n",
    "    M = [[0 for i in range(k + 1)] for j in range(n+1)]\n",
    "        \n",
    "    for i in range(n + 1):\n",
    "        M[i][0] = 1\n",
    "        \n",
    "    for i in range(k + 1):\n",
    "        M[0][i] = 1\n",
    "        \n",
    "    for i in range(1, n+1):\n",
    "        for j in range(1,k+1):\n",
    "            if(j == i or j == 0):\n",
    "                M[i][j] = 1\n",
    "            else:\n",
    "                M[i][j] = M[i-1][j-1] + M[i-1][j]\n",
    "    \n",
    "    return M[n][k]\n",
    "    \n",
    "def show(M):\n",
    "    for i in range(len(M)):\n",
    "        print(M[i])"
   ]
  },
  {
   "cell_type": "code",
   "execution_count": 18,
   "metadata": {},
   "outputs": [
    {
     "data": {
      "text/plain": [
       "6.0"
      ]
     },
     "execution_count": 18,
     "metadata": {},
     "output_type": "execute_result"
    }
   ],
   "source": [
    "#print(coef_bin(2, 2))\n",
    "#coef_bin_iter(2, 2)\n",
    "coef_bin_k(4, 2)"
   ]
  },
  {
   "cell_type": "code",
   "execution_count": null,
   "metadata": {},
   "outputs": [],
   "source": []
  },
  {
   "cell_type": "code",
   "execution_count": null,
   "metadata": {},
   "outputs": [],
   "source": []
  }
 ],
 "metadata": {
  "kernelspec": {
   "display_name": "Python 3",
   "language": "python",
   "name": "python3"
  },
  "language_info": {
   "codemirror_mode": {
    "name": "ipython",
    "version": 3
   },
   "file_extension": ".py",
   "mimetype": "text/x-python",
   "name": "python",
   "nbconvert_exporter": "python",
   "pygments_lexer": "ipython3",
   "version": "3.6.7"
  }
 },
 "nbformat": 4,
 "nbformat_minor": 2
}
