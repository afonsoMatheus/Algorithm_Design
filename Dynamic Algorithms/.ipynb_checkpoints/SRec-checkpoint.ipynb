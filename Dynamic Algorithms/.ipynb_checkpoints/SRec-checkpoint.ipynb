{
 "cells": [
  {
   "cell_type": "code",
   "execution_count": 1,
   "metadata": {},
   "outputs": [],
   "source": [
    "def srec_iter(S):\n",
    "    \n",
    "    aux = [False for i in range(len(S) + 1)]\n",
    "    D = [0 for i in range(len(S) + 1)]\n",
    "    \n",
    "    aux[0] = True\n",
    "    \n",
    "    for i in range(len(S)+1):\n",
    "        for j in range(1, i):\n",
    "            if (dic(S[j-1:i]) == True and aux[j-1] == True):\n",
    "                aux[i] = True\n",
    "                D[i] = j\n",
    "    \n",
    "    return D\n",
    "\n",
    "def show(S):\n",
    "    \n",
    "    D = srec_iter(S)\n",
    "    \n",
    "    k = 0\n",
    "    for i in range(len(S)+1):\n",
    "        if (D[i] != 0):\n",
    "            print(S[k:i])\n",
    "            k = i\n",
    "\n",
    "def dic(string):\n",
    "    \n",
    "    words = [\"anonymous\",\"array\",\"of\",\"letters\"]\n",
    "    \n",
    "    for word in words:\n",
    "        if (word == string):\n",
    "            return True\n",
    "    \n",
    "    return False"
   ]
  },
  {
   "cell_type": "code",
   "execution_count": 2,
   "metadata": {},
   "outputs": [
    {
     "name": "stdout",
     "output_type": "stream",
     "text": [
      "array\n",
      "anonymous\n"
     ]
    }
   ],
   "source": [
    "S = \"arrayanonymous\"\n",
    "\n",
    "show(S)"
   ]
  },
  {
   "cell_type": "code",
   "execution_count": null,
   "metadata": {},
   "outputs": [],
   "source": []
  }
 ],
 "metadata": {
  "kernelspec": {
   "display_name": "Python 3",
   "language": "python",
   "name": "python3"
  },
  "language_info": {
   "codemirror_mode": {
    "name": "ipython",
    "version": 3
   },
   "file_extension": ".py",
   "mimetype": "text/x-python",
   "name": "python",
   "nbconvert_exporter": "python",
   "pygments_lexer": "ipython3",
   "version": "3.6.7"
  }
 },
 "nbformat": 4,
 "nbformat_minor": 2
}
