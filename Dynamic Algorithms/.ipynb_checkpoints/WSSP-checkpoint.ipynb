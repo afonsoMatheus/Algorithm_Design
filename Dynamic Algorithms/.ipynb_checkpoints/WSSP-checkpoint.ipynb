{
 "cells": [
  {
   "cell_type": "code",
   "execution_count": 52,
   "metadata": {},
   "outputs": [],
   "source": [
    "def wssp(itens, W, j):\n",
    "    \n",
    "    if(j == 0):\n",
    "        return 0\n",
    "    elif(itens[j][0] > W):\n",
    "        return wssp(itens, W, j-1)\n",
    "    else:\n",
    "        return max(itens[j][0] + wssp(itens, W - itens[j][0], j-1), wssp(itens, W, j-1))\n",
    "    \n",
    "def knapsack(itens, W, j):\n",
    "    \n",
    "    if(j == 0):\n",
    "        return 0\n",
    "    elif(itens[j][0] > W):\n",
    "        return knapsack(itens, W, j-1)\n",
    "    else:\n",
    "        return max(itens[j][1] + knapsack(itens, W - itens[j][0], j-1), knapsack(itens, W, j-1))\n",
    "    \n",
    "        \n",
    "\n"
   ]
  },
  {
   "cell_type": "code",
   "execution_count": 53,
   "metadata": {},
   "outputs": [
    {
     "name": "stdout",
     "output_type": "stream",
     "text": [
      "5\n"
     ]
    }
   ],
   "source": [
    "itens = {1: [2, 6], 2: [2, 4], 3: [3,1]}\n",
    "W = 6\n",
    "j = len(itens)\n",
    "\n",
    "print(wssp(itens, W,j))\n",
    "#print(knapsack(itens, W, j))\n",
    "\n"
   ]
  },
  {
   "cell_type": "code",
   "execution_count": null,
   "metadata": {},
   "outputs": [],
   "source": []
  }
 ],
 "metadata": {
  "kernelspec": {
   "display_name": "Python 3",
   "language": "python",
   "name": "python3"
  },
  "language_info": {
   "codemirror_mode": {
    "name": "ipython",
    "version": 3
   },
   "file_extension": ".py",
   "mimetype": "text/x-python",
   "name": "python",
   "nbconvert_exporter": "python",
   "pygments_lexer": "ipython3",
   "version": "3.6.7"
  }
 },
 "nbformat": 4,
 "nbformat_minor": 2
}
