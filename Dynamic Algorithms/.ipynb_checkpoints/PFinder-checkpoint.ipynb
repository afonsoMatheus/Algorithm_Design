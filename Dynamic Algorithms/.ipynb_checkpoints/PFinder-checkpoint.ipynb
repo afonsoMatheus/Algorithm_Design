{
 "cells": [
  {
   "cell_type": "code",
   "execution_count": 46,
   "metadata": {},
   "outputs": [],
   "source": [
    "def path_finder(M, cost, m, n):\n",
    "    \n",
    "    if(m == 0 and n == 0):\n",
    "        if(M[m][n] - cost == 0):\n",
    "            return 1\n",
    "        else:\n",
    "            return 0\n",
    "    elif(m == 0):\n",
    "        return path_finder(M, cost - M[m][n], m, n-1)\n",
    "    elif(n == 0):\n",
    "        return path_finder(M, cost - M[m][n], m -1, n)\n",
    "    else:\n",
    "        return path_finder(M, cost - M[m][n], m, n-1) + path_finder(M, cost - M[m][n], m-1, n) "
   ]
  },
  {
   "cell_type": "code",
   "execution_count": 47,
   "metadata": {},
   "outputs": [
    {
     "data": {
      "text/plain": [
       "2"
      ]
     },
     "execution_count": 47,
     "metadata": {},
     "output_type": "execute_result"
    }
   ],
   "source": [
    "M = [[4,7,1,6],[5,7,3,9],[3,2,1,2],[7,1,6,3]]\n",
    "path_finder(M, 25, len(M)-1, len(M[0])-1)"
   ]
  },
  {
   "cell_type": "code",
   "execution_count": null,
   "metadata": {},
   "outputs": [],
   "source": []
  }
 ],
 "metadata": {
  "kernelspec": {
   "display_name": "Python 3",
   "language": "python",
   "name": "python3"
  },
  "language_info": {
   "codemirror_mode": {
    "name": "ipython",
    "version": 3
   },
   "file_extension": ".py",
   "mimetype": "text/x-python",
   "name": "python",
   "nbconvert_exporter": "python",
   "pygments_lexer": "ipython3",
   "version": "3.6.7"
  }
 },
 "nbformat": 4,
 "nbformat_minor": 2
}
