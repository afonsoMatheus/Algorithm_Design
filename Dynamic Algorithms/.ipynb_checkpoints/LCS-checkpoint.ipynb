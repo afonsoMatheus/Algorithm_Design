{
 "cells": [
  {
   "cell_type": "code",
   "execution_count": 36,
   "metadata": {},
   "outputs": [],
   "source": [
    "def lcs(s1,s2,i,j):\n",
    "    \n",
    "    if (i < 0 or j < 0):\n",
    "        return 0\n",
    "    elif(s1[i] == s2[j]):\n",
    "        return 1 + lcs(s1,s2,i-1,j-1)\n",
    "    else:\n",
    "        return max(lcs(s1,s2,i-1,j), lcs(s1,s2,i,j-1))\n",
    "    \n",
    "def lcs_iter(s1,s2):\n",
    "    \n",
    "    n = len(s1) + 1\n",
    "    m = len(s2) + 1\n",
    "    \n",
    "    M = [[0 for i in range(m)] for j in range(n)]\n",
    "    \n",
    "    for i in range(1,n):\n",
    "        for j in range(1, m):\n",
    "            if(s1[i-1] == s2[j-1]):\n",
    "                M[i][j] = M[i-1][j-1] + 1\n",
    "            else:\n",
    "                M[i][j] = max(M[i][j-1], M[i-1][j])\n",
    "    \n",
    "    return M\n",
    "\n",
    "def print_lcs(s1,s2):\n",
    "    \n",
    "    M = lcs_iter(s1,s2)\n",
    "    sub = []\n",
    "    \n",
    "    i = len(s1)\n",
    "    j = len(s2)\n",
    "    \n",
    "    while(i > 0 and j > 0):\n",
    "        \n",
    "        if(s1[i-1] == s2[j-1]):\n",
    "            sub.insert(0,s1[i-1])\n",
    "            i-=1\n",
    "            j-=1\n",
    "        elif(M[i-1][j] > M[i][j-1]):\n",
    "            i-=1\n",
    "        else:\n",
    "            j-=1\n",
    "            \n",
    "    return sub\n",
    "            \n",
    "        \n",
    "    \n",
    "    \n",
    "                    \n",
    "                    "
   ]
  },
  {
   "cell_type": "code",
   "execution_count": 37,
   "metadata": {},
   "outputs": [
    {
     "data": {
      "text/plain": [
       "['B', 'E', 'G', 'C', 'E', 'B']"
      ]
     },
     "execution_count": 37,
     "metadata": {},
     "output_type": "execute_result"
    }
   ],
   "source": [
    "s1 = [\"A\",\"C\",\"B\",\"D\",\"E\",\"G\",\"C\",\"E\",\"D\",\"B\",\"G\"]\n",
    "s2 = [\"B\",\"E\",\"G\",\"C\",\"F\",\"E\",\"U\",\"B\",\"K\"]\n",
    "\n",
    "#lcs(s1,s2,len(s1)-1,len(s2)-1)\n",
    "#lcs_iter(s1,s2)\n",
    "print_lcs(s1,s2)"
   ]
  },
  {
   "cell_type": "code",
   "execution_count": null,
   "metadata": {},
   "outputs": [],
   "source": []
  }
 ],
 "metadata": {
  "kernelspec": {
   "display_name": "Python 3",
   "language": "python",
   "name": "python3"
  },
  "language_info": {
   "codemirror_mode": {
    "name": "ipython",
    "version": 3
   },
   "file_extension": ".py",
   "mimetype": "text/x-python",
   "name": "python",
   "nbconvert_exporter": "python",
   "pygments_lexer": "ipython3",
   "version": "3.6.7"
  }
 },
 "nbformat": 4,
 "nbformat_minor": 2
}
