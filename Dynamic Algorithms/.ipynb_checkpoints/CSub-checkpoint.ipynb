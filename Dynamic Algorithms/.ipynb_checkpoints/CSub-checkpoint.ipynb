{
 "cells": [
  {
   "cell_type": "code",
   "execution_count": 85,
   "metadata": {},
   "outputs": [],
   "source": [
    "def count_sub(s1,s2,i,j):\n",
    "    \n",
    "    if (i < 0):\n",
    "        return 1\n",
    "    if (j < 0):\n",
    "        return 0\n",
    "    elif(s1[i] == s2[j]):\n",
    "        return count_sub(s1,s2,i,j-1) + count_sub(s1,s2,i-1,j-1)\n",
    "    else:\n",
    "        return count_sub(s1,s2,i,j-1)\n",
    "\n",
    "def count_sub_iter(s1,s2):\n",
    "    \n",
    "    n = len(s1) + 1\n",
    "    m = len(s2) + 1\n",
    "    \n",
    "    M = [[0 for i in range(m)] for j in range(n)]\n",
    "    \n",
    "    for i in range(m):\n",
    "        M[0][i] = 1\n",
    "        \n",
    "    for i in range(1, n):\n",
    "        for j in range(1, m):\n",
    "            if(s1[i-1] == s2[j-1]):\n",
    "                M[i][j] = M[i][j-1] + M[i-1][j-1]\n",
    "            else:\n",
    "                M[i][j] = M[i][j-1]\n",
    "                \n",
    "    print(M)\n",
    "        \n",
    "    return M[n-1][m-1]\n",
    "        "
   ]
  },
  {
   "cell_type": "code",
   "execution_count": 86,
   "metadata": {},
   "outputs": [
    {
     "data": {
      "text/plain": [
       "3"
      ]
     },
     "execution_count": 86,
     "metadata": {},
     "output_type": "execute_result"
    }
   ],
   "source": [
    "s1 = 'ban'\n",
    "s2 = 'banana'\n",
    "\n",
    "count_sub(s1,s2, len(s1)-1, len(s2)-1)"
   ]
  },
  {
   "cell_type": "code",
   "execution_count": null,
   "metadata": {},
   "outputs": [],
   "source": []
  }
 ],
 "metadata": {
  "kernelspec": {
   "display_name": "Python 3",
   "language": "python",
   "name": "python3"
  },
  "language_info": {
   "codemirror_mode": {
    "name": "ipython",
    "version": 3
   },
   "file_extension": ".py",
   "mimetype": "text/x-python",
   "name": "python",
   "nbconvert_exporter": "python",
   "pygments_lexer": "ipython3",
   "version": "3.6.7"
  }
 },
 "nbformat": 4,
 "nbformat_minor": 2
}
