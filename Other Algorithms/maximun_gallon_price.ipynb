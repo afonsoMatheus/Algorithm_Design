{
 "cells": [
  {
   "cell_type": "code",
   "execution_count": 121,
   "metadata": {},
   "outputs": [],
   "source": [
    "from operator import itemgetter"
   ]
  },
  {
   "cell_type": "code",
   "execution_count": 174,
   "metadata": {},
   "outputs": [],
   "source": [
    "def max_gallon(subs, cap):\n",
    "    \n",
    "    subs = sorted(subs.values(), key=itemgetter(0), reverse = True)\n",
    "    \n",
    "    sold = 0\n",
    "    cap_used = 0\n",
    "    chosed = []\n",
    "    \n",
    "    print(subs)\n",
    "    \n",
    "    i = 0\n",
    "    while(i < len(subs) and cap_used < cap):\n",
    "        if(cap_used + (subs[i][1]) <= cap):\n",
    "            sold = sold + (subs[i][0]*subs[i][1])\n",
    "            cap_used = cap_used + subs[i][1]\n",
    "            chosed.append(subs[i])\n",
    "        else:\n",
    "            sold = sold + (subs[i][0]*(cap - cap_used))\n",
    "            chosed.append([subs[i][0], cap - cap_used])\n",
    "            cap_used = cap_used + (cap - cap_used)\n",
    "            \n",
    "        print(cap_used)\n",
    "        i = i + 1\n",
    "    \n",
    "    print(chosed)\n",
    "    \n",
    "    return sold\n",
    "    "
   ]
  },
  {
   "cell_type": "code",
   "execution_count": 175,
   "metadata": {},
   "outputs": [
    {
     "name": "stdout",
     "output_type": "stream",
     "text": [
      "[[40, 3], [30, 5], [16, 10], [8, 5], [3, 15]]\n",
      "3\n",
      "8\n",
      "10\n",
      "[[40, 3], [30, 5], [16, 2]]\n"
     ]
    },
    {
     "data": {
      "text/plain": [
       "302"
      ]
     },
     "execution_count": 175,
     "metadata": {},
     "output_type": "execute_result"
    }
   ],
   "source": [
    "subs = {}\n",
    "subs['A'] = [16, 10]\n",
    "subs['B'] = [3, 15]\n",
    "subs['C'] = [8, 5]\n",
    "subs['D'] = [30, 5]\n",
    "subs['E'] = [40, 3]\n",
    "L = 10\n",
    "\n",
    "max_gallon(subs, L)"
   ]
  },
  {
   "cell_type": "code",
   "execution_count": null,
   "metadata": {},
   "outputs": [],
   "source": []
  }
 ],
 "metadata": {
  "kernelspec": {
   "display_name": "Python 3",
   "language": "python",
   "name": "python3"
  },
  "language_info": {
   "codemirror_mode": {
    "name": "ipython",
    "version": 3
   },
   "file_extension": ".py",
   "mimetype": "text/x-python",
   "name": "python",
   "nbconvert_exporter": "python",
   "pygments_lexer": "ipython3",
   "version": "3.6.7"
  }
 },
 "nbformat": 4,
 "nbformat_minor": 2
}
