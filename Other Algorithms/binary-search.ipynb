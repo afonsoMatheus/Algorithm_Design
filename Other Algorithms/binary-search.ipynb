{
 "cells": [
  {
   "cell_type": "code",
   "execution_count": 29,
   "metadata": {},
   "outputs": [],
   "source": [
    "def binary_search(v, x, inf = 0, sup = len(v)-1):\n",
    "    \n",
    "    meio = 0\n",
    "    \n",
    "    print(inf)\n",
    "    print(sup)\n",
    "    \n",
    "    if(inf <= sup):\n",
    "        \n",
    "        meio = int((inf+sup)/2)\n",
    "        \n",
    "        if(meio >= len(v)):\n",
    "            return \"Not found\"\n",
    "        \n",
    "        if(x == v[meio]):\n",
    "            return v[meio]\n",
    "        elif(x < v[meio]):\n",
    "            return binary_search(v, x, inf, meio-1)\n",
    "        else:\n",
    "            return binary_search(v, x, meio+1, sup)\n",
    "    \n",
    "    else: return \"Not found\"\n",
    "    \n",
    "    "
   ]
  },
  {
   "cell_type": "code",
   "execution_count": 30,
   "metadata": {},
   "outputs": [
    {
     "name": "stdout",
     "output_type": "stream",
     "text": [
      "0\n",
      "9\n",
      "5\n",
      "9\n",
      "8\n",
      "9\n",
      "11\n"
     ]
    }
   ],
   "source": [
    "v = [1,2,3,4,5,6,7,10,11,12]\n",
    "\n",
    "print(binary_search(v,11))"
   ]
  },
  {
   "cell_type": "code",
   "execution_count": null,
   "metadata": {},
   "outputs": [],
   "source": []
  }
 ],
 "metadata": {
  "kernelspec": {
   "display_name": "Python 3",
   "language": "python",
   "name": "python3"
  },
  "language_info": {
   "codemirror_mode": {
    "name": "ipython",
    "version": 3
   },
   "file_extension": ".py",
   "mimetype": "text/x-python",
   "name": "python",
   "nbconvert_exporter": "python",
   "pygments_lexer": "ipython3",
   "version": "3.6.7"
  }
 },
 "nbformat": 4,
 "nbformat_minor": 2
}
