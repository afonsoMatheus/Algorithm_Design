{
 "cells": [
  {
   "cell_type": "code",
   "execution_count": 102,
   "metadata": {},
   "outputs": [],
   "source": [
    "from operator import itemgetter\n",
    "import heapq as hp\n",
    "\n",
    "def inter_part(tasks):\n",
    "    \n",
    "    heap = []\n",
    "    rooms = {}\n",
    "    \n",
    "    c = 1\n",
    "    total = 1\n",
    "\n",
    "    tasks = sorted(tasks, key=itemgetter(0))\n",
    "        \n",
    "    hp.heappush(heap, (tasks[0][1], c))\n",
    "    \n",
    "    rooms[c] = [tasks[0]]\n",
    "        \n",
    "    for i in range(1,len(tasks)):\n",
    "        \n",
    "        if(tasks[i][0] >= heap[0][0]):\n",
    "            \n",
    "            c = heap[0][1]\n",
    "                        \n",
    "            hp.heappop(heap)\n",
    "        \n",
    "            hp.heappush(heap, (tasks[i][1], c))\n",
    "                        \n",
    "            rooms[c].append(tasks[i])\n",
    "            \n",
    "        else:\n",
    "            \n",
    "            total = total + 1\n",
    "                        \n",
    "            hp.heappush(heap, (tasks[i][1], total))\n",
    "                        \n",
    "            rooms[total] = []\n",
    "            \n",
    "            rooms[total].append(tasks[i])\n",
    "            \n",
    "    return rooms\n",
    "            \n",
    "            \n",
    "        \n",
    "        \n",
    "    "
   ]
  },
  {
   "cell_type": "code",
   "execution_count": 103,
   "metadata": {},
   "outputs": [
    {
     "name": "stdout",
     "output_type": "stream",
     "text": [
      "{1: [[9.0, 10.3], [11.0, 12.3], [13.0, 14.3], [15.0, 16.3]], 2: [[9.0, 12.3], [13.0, 14.3], [15.0, 16.3]], 3: [[9.0, 10.3], [11.0, 14.0], [14.0, 16.3]]}\n"
     ]
    }
   ],
   "source": [
    "tasks = [[9.0,10.30],[9.0,12.30],[9.0,10.30],[11.0,12.30],[11.0,14.0],[13.0,14.30],[13.0,14.30],[14.0,16.30],[15.0,16.30],[15.0,16.30]]\n",
    "\n",
    "print(inter_part(tasks))"
   ]
  },
  {
   "cell_type": "code",
   "execution_count": null,
   "metadata": {},
   "outputs": [],
   "source": []
  }
 ],
 "metadata": {
  "kernelspec": {
   "display_name": "Python 3",
   "language": "python",
   "name": "python3"
  },
  "language_info": {
   "codemirror_mode": {
    "name": "ipython",
    "version": 3
   },
   "file_extension": ".py",
   "mimetype": "text/x-python",
   "name": "python",
   "nbconvert_exporter": "python",
   "pygments_lexer": "ipython3",
   "version": "3.6.7"
  }
 },
 "nbformat": 4,
 "nbformat_minor": 2
}
