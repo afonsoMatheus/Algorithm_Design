{
 "cells": [
  {
   "cell_type": "code",
   "execution_count": 32,
   "metadata": {},
   "outputs": [],
   "source": [
    "from operator import itemgetter\n",
    "\n",
    "def sched_inter(tasks):\n",
    "    \n",
    "    tasks = sorted(tasks, key=itemgetter(1))\n",
    "    \n",
    "    result = [tasks[0]]\n",
    "    \n",
    "    for i in range(1, len(tasks)):\n",
    "        \n",
    "        if(tasks[i][0] >= result[0][1]):\n",
    "                        \n",
    "            result.insert(0, tasks[i])\n",
    "            \n",
    "    result = sorted(result, key=itemgetter(0))\n",
    "                    \n",
    "    return result\n",
    "    \n",
    "    "
   ]
  },
  {
   "cell_type": "code",
   "execution_count": 39,
   "metadata": {},
   "outputs": [
    {
     "data": {
      "text/plain": [
       "[[1, 4], [4, 7], [8, 11]]"
      ]
     },
     "execution_count": 39,
     "metadata": {},
     "output_type": "execute_result"
    }
   ],
   "source": [
    "tasks = [[0,6],[1,4],[3,5],[3,8],[4,7],[5,9],[6,10],[8,11]]\n",
    "sched_inter(tasks)"
   ]
  },
  {
   "cell_type": "code",
   "execution_count": null,
   "metadata": {},
   "outputs": [],
   "source": []
  }
 ],
 "metadata": {
  "kernelspec": {
   "display_name": "Python 3",
   "language": "python",
   "name": "python3"
  },
  "language_info": {
   "codemirror_mode": {
    "name": "ipython",
    "version": 3
   },
   "file_extension": ".py",
   "mimetype": "text/x-python",
   "name": "python",
   "nbconvert_exporter": "python",
   "pygments_lexer": "ipython3",
   "version": "3.6.7"
  }
 },
 "nbformat": 4,
 "nbformat_minor": 2
}
