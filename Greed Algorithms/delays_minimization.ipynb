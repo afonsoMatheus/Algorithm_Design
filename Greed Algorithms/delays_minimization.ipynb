{
 "cells": [
  {
   "cell_type": "code",
   "execution_count": 1,
   "metadata": {},
   "outputs": [],
   "source": [
    "from operator import itemgetter\n",
    "\n",
    "def delay_min(tasks):\n",
    "    \n",
    "    sorted(tasks, key=itemgetter(1))\n",
    "    \n",
    "    interval = {}\n",
    "    \n",
    "    start = 0\n",
    "    for i in range(len(tasks)):\n",
    "        \n",
    "        interval[i] = [start, start + tasks[i][1]]\n",
    "        start = start + tasks[i][1]\n",
    "        \n",
    "    return interval\n",
    "        \n",
    "        \n",
    "    \n",
    "    "
   ]
  },
  {
   "cell_type": "code",
   "execution_count": 2,
   "metadata": {},
   "outputs": [
    {
     "name": "stdout",
     "output_type": "stream",
     "text": [
      "{0: [0, 6], 1: [6, 14], 2: [14, 23], 3: [23, 32], 4: [32, 46], 5: [46, 61]}\n"
     ]
    }
   ],
   "source": [
    "tasks = [[3,6],[2,8],[1,9],[4,9],[3,14],[2,15]]\n",
    "print(delay_min(tasks))\n"
   ]
  },
  {
   "cell_type": "code",
   "execution_count": null,
   "metadata": {},
   "outputs": [],
   "source": []
  }
 ],
 "metadata": {
  "kernelspec": {
   "display_name": "Python 3",
   "language": "python",
   "name": "python3"
  },
  "language_info": {
   "codemirror_mode": {
    "name": "ipython",
    "version": 3
   },
   "file_extension": ".py",
   "mimetype": "text/x-python",
   "name": "python",
   "nbconvert_exporter": "python",
   "pygments_lexer": "ipython3",
   "version": "3.6.7"
  }
 },
 "nbformat": 4,
 "nbformat_minor": 2
}
