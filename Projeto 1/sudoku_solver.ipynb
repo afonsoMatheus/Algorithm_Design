{
 "cells": [
  {
   "cell_type": "code",
   "execution_count": 1,
   "metadata": {},
   "outputs": [],
   "source": [
    "'''reading the sudoku problem from file'''\n",
    "\n",
    "arq = open('sudoku', 'r')\n",
    "sudoku = arq.readlines()\n",
    "grid = []\n",
    "\n",
    "N = 0\n",
    "for i in range(len(sudoku)):\n",
    "    \n",
    "    if(i == 0):\n",
    "        N = sudoku[i]\n",
    "    else:\n",
    "        grid.append(sudoku[i].split())\n",
    "\n",
    "arq.close()\n",
    "\n",
    "\n",
    "def show_grid():\n",
    "    for i in range(len(grid)):          \n",
    "        print(grid[i])\n",
    "    print(\"\\n\")"
   ]
  },
  {
   "cell_type": "code",
   "execution_count": 2,
   "metadata": {},
   "outputs": [],
   "source": [
    "'''generate the list with the blank spaces of the grid '''\n",
    "\n",
    "def empty_list(grid):\n",
    "    \n",
    "    empty = {}\n",
    "    k = 0\n",
    "    for i in range(len(grid)):\n",
    "        for j in range(len(grid)):\n",
    "            if(grid[i][j] == \"0\"):\n",
    "                empty[k] = [i,j]\n",
    "                k = k + 1\n",
    "            \n",
    "    return empty\n",
    "    "
   ]
  },
  {
   "cell_type": "code",
   "execution_count": 3,
   "metadata": {},
   "outputs": [],
   "source": [
    "'''verification of lin, col, subgrids'''\n",
    "\n",
    "def check_lin(grid, i, chosen):\n",
    "    \n",
    "    if(chosen in grid[i]):\n",
    "        return False\n",
    "    else:\n",
    "        return True\n",
    "    \n",
    "def check_col(grid, j, chosen):\n",
    "    \n",
    "    for i in range(len(grid)):\n",
    "        if(chosen == grid[i][j]):\n",
    "            return False\n",
    "    \n",
    "    return True\n",
    "\n",
    "def check_subgrid(grid, i, j, chosen):\n",
    "    \n",
    "    subl = i - i%3\n",
    "    subc = j - j%3\n",
    "    aux = subc    \n",
    "        \n",
    "    for subl in range(subl, subl+3):\n",
    "        for subc in range(subc, subc+3):\n",
    "            if(grid[subl][subc] == chosen):\n",
    "                return False\n",
    "         \n",
    "        subc = aux\n",
    "        \n",
    "    return True\n",
    "    \n",
    "    "
   ]
  },
  {
   "cell_type": "code",
   "execution_count": 4,
   "metadata": {},
   "outputs": [],
   "source": [
    "''' backtracking algorithm '''\n",
    "\n",
    "def backtrack(grid):\n",
    "    \n",
    "    empty = empty_list(grid)\n",
    "    \n",
    "    if (empty == {}):\n",
    "        return True\n",
    "            \n",
    "    spoti, spotj = empty[0][0], empty[0][1]\n",
    "\n",
    "    for i in range(1,10):\n",
    "\n",
    "        chosen = str(i)\n",
    "        \n",
    "        #print(\"Posição: \" + str(spoti) + \", \" + str(spotj) + \" = \" + str(i))\n",
    "\n",
    "        if(check_lin(grid, spoti, chosen) == True and check_col(grid, spotj, chosen) == True and   \n",
    "           check_subgrid(grid, spoti, spotj, chosen) == True):\n",
    "\n",
    "            grid[spoti][spotj] = chosen\n",
    "\n",
    "            result = backtrack(grid)\n",
    "\n",
    "            if(result == False):\n",
    "                grid[spoti][spotj] = \"0\"\n",
    "            else:\n",
    "                return True\n",
    "        \n",
    "\n",
    "    return False    \n",
    "    "
   ]
  },
  {
   "cell_type": "code",
   "execution_count": 5,
   "metadata": {},
   "outputs": [
    {
     "name": "stdout",
     "output_type": "stream",
     "text": [
      "['3', '0', '6', '5', '0', '8', '4', '0', '0']\n",
      "['5', '2', '0', '0', '0', '0', '0', '0', '0']\n",
      "['0', '8', '7', '0', '0', '0', '0', '3', '1']\n",
      "['0', '0', '3', '0', '1', '0', '0', '8', '0']\n",
      "['9', '0', '0', '8', '6', '3', '0', '0', '5']\n",
      "['0', '5', '0', '0', '9', '0', '6', '0', '0']\n",
      "['1', '3', '0', '0', '0', '0', '2', '5', '0']\n",
      "['0', '0', '0', '0', '0', '0', '0', '7', '4']\n",
      "['0', '0', '5', '2', '0', '6', '3', '0', '0']\n",
      "\n",
      "\n",
      "['3', '1', '6', '5', '7', '8', '4', '9', '2']\n",
      "['5', '2', '9', '1', '3', '4', '7', '6', '8']\n",
      "['4', '8', '7', '6', '2', '9', '5', '3', '1']\n",
      "['2', '6', '3', '4', '1', '5', '9', '8', '7']\n",
      "['9', '7', '4', '8', '6', '3', '1', '2', '5']\n",
      "['8', '5', '1', '7', '9', '2', '6', '4', '3']\n",
      "['1', '3', '8', '9', '4', '7', '2', '5', '6']\n",
      "['6', '9', '2', '3', '5', '1', '8', '7', '4']\n",
      "['7', '4', '5', '2', '8', '6', '3', '1', '9']\n",
      "\n",
      "\n"
     ]
    }
   ],
   "source": [
    "show_grid()\n",
    "backtrack(grid)\n",
    "show_grid()\n",
    "\n"
   ]
  },
  {
   "cell_type": "code",
   "execution_count": null,
   "metadata": {},
   "outputs": [],
   "source": []
  },
  {
   "cell_type": "code",
   "execution_count": null,
   "metadata": {},
   "outputs": [],
   "source": []
  }
 ],
 "metadata": {
  "kernelspec": {
   "display_name": "Python 3",
   "language": "python",
   "name": "python3"
  },
  "language_info": {
   "codemirror_mode": {
    "name": "ipython",
    "version": 3
   },
   "file_extension": ".py",
   "mimetype": "text/x-python",
   "name": "python",
   "nbconvert_exporter": "python",
   "pygments_lexer": "ipython3",
   "version": "3.6.7"
  }
 },
 "nbformat": 4,
 "nbformat_minor": 2
}
