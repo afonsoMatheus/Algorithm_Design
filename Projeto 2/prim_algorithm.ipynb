{
 "cells": [
  {
   "cell_type": "code",
   "execution_count": 4,
   "metadata": {},
   "outputs": [],
   "source": [
    "import binary_heap as bh"
   ]
  },
  {
   "cell_type": "code",
   "execution_count": 5,
   "metadata": {},
   "outputs": [],
   "source": [
    "def prim_algorithm(G):\n",
    "    \n",
    "    ver = list(G.keys())\n",
    "    \n",
    "    min_path = {}\n",
    "    pred = {}\n",
    "    exp = []\n",
    "            \n",
    "    start = ver[0]\n",
    "    \n",
    "    min_path[start] = 0\n",
    "    exp.append(start)\n",
    "    pred[start] = start\n",
    "    \n",
    "    for i in range(1, len(ver)):\n",
    "        \n",
    "        min_path[ver[i]] = 9999\n",
    "        pred[ver[i]] = start\n",
    "        \n",
    "    heap = bh.binheap()\n",
    "    \n",
    "    for i in range(1,len(ver)):\n",
    "        \n",
    "        heap.insert(G[ver[i]][start-1] , ver[i])\n",
    "        pred[ver[i]] = start\n",
    "        min_path[ver[i]] = G[ver[i]][start-1]\n",
    "                            \n",
    "    while(heap.heap != []):\n",
    "                \n",
    "        minimun = heap.delete()\n",
    "        exp.append(minimun)\n",
    "      \n",
    "        for i in range(len(G[minimun])):\n",
    "            \n",
    "            if(ver[i] not in exp):\n",
    "                                              \n",
    "                if(G[minimun][ver[i]-1] < min_path[ver[i]] and G[minimun][ver[i]-1] != 0):\n",
    "                    \n",
    "                    heap.change_key(G[minimun][ver[i]-1], ver[i])\n",
    "                    min_path[ver[i]] = G[minimun][ver[i]-1]\n",
    "                    pred[ver[i]] = minimun\n",
    "    print(pred)\n",
    "                    \n",
    "    def solution(G, pred):\n",
    "        \n",
    "        keys = list(pred.keys())\n",
    "        \n",
    "        res = 0\n",
    "        for i in range(len(keys)):\n",
    "            res = res + G[keys[i]][pred[i+1]-1]        \n",
    "        return res\n",
    "                                                                        \n",
    "    return solution(G, pred)"
   ]
  },
  {
   "cell_type": "code",
   "execution_count": 7,
   "metadata": {},
   "outputs": [
    {
     "name": "stdout",
     "output_type": "stream",
     "text": [
      "{1: 1, 2: 1, 3: 2, 4: 2}\n",
      "6\n"
     ]
    }
   ],
   "source": [
    "G = {}\n",
    "G[1] = [0,1,9999,9999]\n",
    "G[2] = [1,0,2,3]\n",
    "G[3] = [9999,2,0,4]\n",
    "G[4] = [9999,3,4,0]\n",
    "\n",
    "sol = prim_algorithm(G)\n",
    "print(sol)"
   ]
  },
  {
   "cell_type": "code",
   "execution_count": null,
   "metadata": {},
   "outputs": [],
   "source": []
  }
 ],
 "metadata": {
  "kernelspec": {
   "display_name": "Python 3",
   "language": "python",
   "name": "python3"
  },
  "language_info": {
   "codemirror_mode": {
    "name": "ipython",
    "version": 3
   },
   "file_extension": ".py",
   "mimetype": "text/x-python",
   "name": "python",
   "nbconvert_exporter": "python",
   "pygments_lexer": "ipython3",
   "version": "3.6.7"
  }
 },
 "nbformat": 4,
 "nbformat_minor": 2
}
